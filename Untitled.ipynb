{
 "cells": [
  {
   "cell_type": "code",
   "execution_count": 16,
   "metadata": {},
   "outputs": [],
   "source": [
    "import matplotlib\n",
    "matplotlib.use(\"Agg\")\n",
    "import matplotlib.pyplot as plt\n",
    "import operator\n",
    "\n",
    "\n",
    "def save_length_ditribution(distribution, filename):\n",
    "    distribution = dict(sorted(list(map(lambda x: (int(x[0]), x[1]), distribution.items()))))\n",
    "    plt.plot(distribution.keys(), distribution.values(), color='green')\n",
    "    plt.ylabel('Количество слов данной длины')\n",
    "    plt.xlabel('Длина слова')\n",
    "    plt.savefig(filename)\n",
    "\n",
    "\n",
    "def save_words_distribution(distribution, filename, logarithmic=False):\n",
    "    distribution = (sorted(distribution.items(), key=operator.itemgetter(1)))[::-1]\n",
    "    ylabel = list(map(operator.itemgetter(1), distribution))\n",
    "    if logarithmic:\n",
    "        plt.loglog(range(len(ylabel)), ylabel)\n",
    "    else:\n",
    "        plt.plot(ylabel)\n",
    "    plt.ylabel('Количество появлений слова')\n",
    "    plt.xlabel('Слова')\n",
    "    plt.savefig(filename)"
   ]
  },
  {
   "cell_type": "code",
   "execution_count": 2,
   "metadata": {},
   "outputs": [
    {
     "data": {
      "text/plain": [
       "True"
      ]
     },
     "execution_count": 2,
     "metadata": {},
     "output_type": "execute_result"
    }
   ],
   "source": [
    "from database.models import *\n",
    "news_db.connect()"
   ]
  },
  {
   "cell_type": "code",
   "execution_count": 4,
   "metadata": {},
   "outputs": [],
   "source": [
    "article = Article.get(title='Глава MI5 решил предупредить Россию о будущей изоляции')"
   ]
  },
  {
   "cell_type": "code",
   "execution_count": 5,
   "metadata": {},
   "outputs": [
    {
     "data": {
      "text/plain": [
       "Отравление Скрипалей: Глава MI5 решил предупредить Россию о будущей изоляции; 2018-05-13 02:05:00"
      ]
     },
     "execution_count": 5,
     "metadata": {},
     "output_type": "execute_result"
    }
   ],
   "source": [
    "article"
   ]
  },
  {
   "cell_type": "code",
   "execution_count": 6,
   "metadata": {},
   "outputs": [
    {
     "data": {
      "text/plain": [
       "'https://www.rbc.ru/politics/14/05/2018/5af8c49b9a794780d59558f0'"
      ]
     },
     "execution_count": 6,
     "metadata": {},
     "output_type": "execute_result"
    }
   ],
   "source": [
    "article.url"
   ]
  },
  {
   "cell_type": "code",
   "execution_count": 8,
   "metadata": {},
   "outputs": [],
   "source": [
    "import json"
   ]
  },
  {
   "cell_type": "code",
   "execution_count": 17,
   "metadata": {},
   "outputs": [],
   "source": [
    "save_words_distribution(json.loads(article.words_distribution), '3')"
   ]
  },
  {
   "cell_type": "code",
   "execution_count": null,
   "metadata": {},
   "outputs": [],
   "source": []
  }
 ],
 "metadata": {
  "kernelspec": {
   "display_name": "Python 3",
   "language": "python",
   "name": "python3"
  },
  "language_info": {
   "codemirror_mode": {
    "name": "ipython",
    "version": 3
   },
   "file_extension": ".py",
   "mimetype": "text/x-python",
   "name": "python",
   "nbconvert_exporter": "python",
   "pygments_lexer": "ipython3",
   "version": "3.6.3"
  }
 },
 "nbformat": 4,
 "nbformat_minor": 2
}
